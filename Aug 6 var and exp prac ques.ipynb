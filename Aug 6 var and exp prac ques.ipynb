{
 "cells": [
  {
   "cell_type": "code",
   "execution_count": 5,
   "metadata": {},
   "outputs": [
    {
     "name": "stdout",
     "output_type": "stream",
     "text": [
      "Enter the value of angle: 89.6\n",
      "Degrees: 89.6 \n",
      " Radians: 1.563022222222222\n"
     ]
    }
   ],
   "source": [
    "degrees = input(\"Enter the value of angle: \")\n",
    "radians = float(degrees) * 3.14/180\n",
    "print(\"Degrees:\", degrees,\"\\n\",\"Radians:\", radians)\n"
   ]
  },
  {
   "cell_type": "code",
   "execution_count": 6,
   "metadata": {},
   "outputs": [
    {
     "name": "stdout",
     "output_type": "stream",
     "text": [
      "Enter student 1 score: 83\n",
      "Enter student 2 score: 78\n",
      "Enter student 3 score: 96\n",
      "Student scores: \n",
      " 83 \n",
      " 78 \n",
      " 96 \n",
      " Average:  85.66666666666667\n"
     ]
    }
   ],
   "source": [
    "stdnt1 = input(\"Enter student 1 score: \")\n",
    "stdnt2 = input(\"Enter student 2 score: \")\n",
    "stdnt3 = input(\"Enter student 3 score: \")\n",
    "avg = (float(stdnt1) + float(stdnt2) + float(stdnt3))/3\n",
    "print(\"Student scores:\", \"\\n\", stdnt1, \"\\n\", stdnt2, \"\\n\", stdnt3, \"\\n\", \"Average: \",avg)"
   ]
  },
  {
   "cell_type": "code",
   "execution_count": null,
   "metadata": {},
   "outputs": [],
   "source": []
  }
 ],
 "metadata": {
  "kernelspec": {
   "display_name": "Python 3",
   "language": "python",
   "name": "python3"
  },
  "language_info": {
   "codemirror_mode": {
    "name": "ipython",
    "version": 3
   },
   "file_extension": ".py",
   "mimetype": "text/x-python",
   "name": "python",
   "nbconvert_exporter": "python",
   "pygments_lexer": "ipython3",
   "version": "3.7.3"
  }
 },
 "nbformat": 4,
 "nbformat_minor": 2
}
