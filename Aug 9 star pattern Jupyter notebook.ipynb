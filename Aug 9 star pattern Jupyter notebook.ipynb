{
 "cells": [
  {
   "cell_type": "code",
   "execution_count": 37,
   "metadata": {},
   "outputs": [
    {
     "name": "stdout",
     "output_type": "stream",
     "text": [
      "*\r\n",
      "**\r\n",
      "***\r\n",
      "****\r\n",
      "*****\r\n",
      "******\r\n",
      "*******\r\n",
      "********\r\n",
      "*********\r\n",
      "**********\r\n"
     ]
    }
   ],
   "source": [
    "for x in range(0,10):\n",
    "    for y in range(0,x+1):\n",
    "        print(\"*\", end=\"\")\n",
    "    print(\"\\r\")    "
   ]
  },
  {
   "cell_type": "code",
   "execution_count": 16,
   "metadata": {},
   "outputs": [
    {
     "name": "stdout",
     "output_type": "stream",
     "text": [
      "1 \n",
      "\n",
      "1 2 \n",
      "\n",
      "1 2 3 \n",
      "\n",
      "1 2 3 4 \n",
      "\n",
      "1 2 3 4 5 \n",
      "\n",
      "1 2 3 4 5 6 \n",
      "\n"
     ]
    }
   ],
   "source": [
    "for x in range(0,6):\n",
    "    s=1\n",
    "    for y in range(0,x+1):\n",
    "        print(s, end=\" \")\n",
    "        s=s+1\n",
    "    print(\"\\n\")    "
   ]
  },
  {
   "cell_type": "code",
   "execution_count": 47,
   "metadata": {},
   "outputs": [
    {
     "name": "stdout",
     "output_type": "stream",
     "text": [
      "         * \r\n",
      "        * * \r\n",
      "       * * * \r\n",
      "      * * * * \r\n",
      "     * * * * * \r\n",
      "    * * * * * * \r\n",
      "   * * * * * * * \r\n",
      "  * * * * * * * * \r\n",
      " * * * * * * * * * \r\n",
      "* * * * * * * * * * \r\n"
     ]
    }
   ],
   "source": [
    "k=10-1\n",
    "for x in range (0,10):\n",
    "    for s in range(0,k):\n",
    "        print(end=\" \")\n",
    "    k=k-1\n",
    "    for y in range(0,x+1):\n",
    "        print(\"*\", end=\" \")\n",
    "    print(\"\\r\")    \n",
    "        "
   ]
  },
  {
   "cell_type": "code",
   "execution_count": 53,
   "metadata": {},
   "outputs": [
    {
     "name": "stdout",
     "output_type": "stream",
     "text": [
      "          *\r\n",
      "         **\r\n",
      "        ***\r\n",
      "       ****\r\n",
      "      *****\r\n",
      "     ******\r\n",
      "    *******\r\n",
      "   ********\r\n",
      "  *********\r\n",
      " **********\r\n"
     ]
    }
   ],
   "source": [
    "k=10\n",
    "for x in range(0,10):\n",
    "    for s in range(0,k):\n",
    "        print(end=\" \")\n",
    "    k=k-1 \n",
    "    for y in range(0,x+1):\n",
    "        print(\"*\", end=\"\")\n",
    "    print(\"\\r\")    "
   ]
  },
  {
   "cell_type": "code",
   "execution_count": 44,
   "metadata": {},
   "outputs": [
    {
     "name": "stdout",
     "output_type": "stream",
     "text": [
      "*********\r\n",
      "********\r\n",
      "*******\r\n",
      "******\r\n",
      "*****\r\n",
      "****\r\n",
      "***\r\n",
      "**\r\n",
      "*\r\n",
      "\r\n"
     ]
    }
   ],
   "source": [
    "for x in range(0,10):\n",
    "    for y in range(10,x+1,-1):\n",
    "        print(\"*\", end=\"\")\n",
    "    print(\"\\r\")    "
   ]
  },
  {
   "cell_type": "code",
   "execution_count": 46,
   "metadata": {},
   "outputs": [
    {
     "name": "stdout",
     "output_type": "stream",
     "text": [
      "*********\r\n",
      " ********\r\n",
      "  *******\r\n",
      "   ******\r\n",
      "    *****\r\n",
      "     ****\r\n",
      "      ***\r\n",
      "       **\r\n",
      "        *\r\n",
      "         \r\n"
     ]
    }
   ],
   "source": [
    "k=0\n",
    "for x in range(0,10):\n",
    "    for s in range(0,k):\n",
    "        print(end=\" \")\n",
    "    k=k+1    \n",
    "    for y in range(10,x+1,-1):\n",
    "        print(\"*\", end=\"\")\n",
    "    print(\"\\r\")    \n",
    "        "
   ]
  },
  {
   "cell_type": "code",
   "execution_count": 55,
   "metadata": {
    "scrolled": true
   },
   "outputs": [
    {
     "name": "stdout",
     "output_type": "stream",
     "text": [
      "         * \r\n",
      "        * * \r\n",
      "       * * * \r\n",
      "      * * * * \r\n",
      "     * * * * * \r\n",
      "    * * * * * * \r\n",
      "   * * * * * * * \r\n",
      "  * * * * * * * * \r\n",
      " * * * * * * * * * \r\n",
      "* * * * * * * * * * \r\n",
      " * * * * * * * * * \r\n",
      "  * * * * * * * * \r\n",
      "   * * * * * * * \r\n",
      "    * * * * * * \r\n",
      "     * * * * * \r\n",
      "      * * * * \r\n",
      "       * * * \r\n",
      "        * * \r\n",
      "         * \r\n",
      "          \r\n"
     ]
    }
   ],
   "source": [
    "k=10-1\n",
    "for x in range (0,10):\n",
    "    for s in range(0,k):\n",
    "        print(end=\" \")\n",
    "    k=k-1\n",
    "    for y in range(0,x+1):\n",
    "        print(\"*\", end=\" \")\n",
    "    print(\"\\r\")  \n",
    "k=1\n",
    "for x in range(0,10):\n",
    "    for s in range(0,k):\n",
    "        print(end=\" \")\n",
    "    k=k+1\n",
    "    for y in range(10,x+1,-1):\n",
    "        print(\"*\", end=\" \")\n",
    "    print(\"\\r\")    \n",
    "        "
   ]
  },
  {
   "cell_type": "code",
   "execution_count": 51,
   "metadata": {},
   "outputs": [
    {
     "name": "stdout",
     "output_type": "stream",
     "text": [
      "* * * * * * * * * * \r\n",
      " * * * * * * * * * \r\n",
      "  * * * * * * * * \r\n",
      "   * * * * * * * \r\n",
      "    * * * * * * \r\n",
      "     * * * * * \r\n",
      "      * * * * \r\n",
      "       * * * \r\n",
      "        * * \r\n",
      "         * \r\n",
      "          \r\n"
     ]
    }
   ],
   "source": [
    "k=0\n",
    "for x in range(0,11):\n",
    "    for s in range(0,k):\n",
    "        print(end=\" \")\n",
    "    k=k+1\n",
    "    for y in range(11,x+1,-1):\n",
    "        print(\"*\", end=\" \")\n",
    "    print(\"\\r\")"
   ]
  },
  {
   "cell_type": "code",
   "execution_count": null,
   "metadata": {},
   "outputs": [],
   "source": []
  }
 ],
 "metadata": {
  "kernelspec": {
   "display_name": "Python 3",
   "language": "python",
   "name": "python3"
  },
  "language_info": {
   "codemirror_mode": {
    "name": "ipython",
    "version": 3
   },
   "file_extension": ".py",
   "mimetype": "text/x-python",
   "name": "python",
   "nbconvert_exporter": "python",
   "pygments_lexer": "ipython3",
   "version": "3.7.3"
  }
 },
 "nbformat": 4,
 "nbformat_minor": 2
}
